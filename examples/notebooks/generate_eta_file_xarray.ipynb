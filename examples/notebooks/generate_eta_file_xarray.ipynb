{
 "cells": [
  {
   "cell_type": "code",
   "execution_count": null,
   "id": "6dc5fe4c",
   "metadata": {
    "lines_to_next_cell": 0
   },
   "outputs": [],
   "source": []
  },
  {
   "cell_type": "code",
   "execution_count": null,
   "id": "81be9a15",
   "metadata": {},
   "outputs": [],
   "source": [
    "import numpy as np\n",
    "import xarray as xr"
   ]
  },
  {
   "cell_type": "code",
   "execution_count": null,
   "id": "c74c6c07",
   "metadata": {},
   "outputs": [],
   "source": [
    "\"\"\"\n",
    "This notebook uses the python xarray module\n",
    "to create an eta_file containg\n",
    "ak and bk coefficients for km=79\n",
    "\"\"\""
   ]
  },
  {
   "cell_type": "code",
   "execution_count": null,
   "id": "f72c5d5b",
   "metadata": {},
   "outputs": [],
   "source": [
    "#Assign ak data\n",
    "ak=np.array(\n",
    "    [ 3.000000e+02,  6.467159e+02,  1.045222e+03,  1.469188e+03,  1.897829e+03,\n",
    "      2.325385e+03,  2.754396e+03,  3.191294e+03,  3.648332e+03,  4.135675e+03,\n",
    "      4.668282e+03,  5.247940e+03,  5.876271e+03,  6.554716e+03,  7.284521e+03,\n",
    "      8.066738e+03,  8.902188e+03,  9.791482e+03,  1.073499e+04,  1.162625e+04,\n",
    "      1.237212e+04,  1.299041e+04,  1.349629e+04,  1.390277e+04,  1.422098e+04,\n",
    "      1.446058e+04,  1.462993e+04,  1.473633e+04,  1.478617e+04,  1.478511e+04,\n",
    "      1.473812e+04,  1.464966e+04,  1.452370e+04,  1.436382e+04,  1.417324e+04,\n",
    "      1.395491e+04,  1.371148e+04,  1.344540e+04,  1.315890e+04,  1.285407e+04,\n",
    "      1.253280e+04,  1.219685e+04,  1.184788e+04,  1.148739e+04,  1.111682e+04,\n",
    "      1.073748e+04,  1.035062e+04,  9.957395e+03,  9.558875e+03,  9.156069e+03,\n",
    "      8.749922e+03,  8.341315e+03,  7.931065e+03,  7.519942e+03,  7.108648e+03,\n",
    "      6.698281e+03,  6.290007e+03,  5.884984e+03,  5.484372e+03,  5.089319e+03,\n",
    "      4.700960e+03,  4.320421e+03,  3.948807e+03,  3.587201e+03,  3.236666e+03,\n",
    "      2.898237e+03,  2.572912e+03,  2.261667e+03,  1.965424e+03,  1.685079e+03,\n",
    "      1.421479e+03,  1.175419e+03,  9.476516e+02,  7.388688e+02,  5.497130e+02,\n",
    "      3.807626e+02,  2.325417e+02,  1.054810e+02, -8.381903e-04,  0.000000e+00] )"
   ]
  },
  {
   "cell_type": "code",
   "execution_count": null,
   "id": "f5b85c7e",
   "metadata": {
    "lines_to_next_cell": 2
   },
   "outputs": [],
   "source": [
    "#Assign bk data\n",
    "bk=np.array(\n",
    "    [ 0.,         0.,         0.,         0.,         0.,         0.,\n",
    "      0.,         0.,         0.,         0.,         0.,         0.,\n",
    "      0.,         0.,         0.,         0.,         0.,         0.,\n",
    "      0.,         0.00106595, 0.00412866, 0.00900663, 0.01554263, 0.02359921,\n",
    "      0.03305481, 0.0438012,  0.05574095, 0.06878554, 0.08285347, 0.09786981,\n",
    "      0.1137643,  0.130471,   0.1479275,  0.1660746,  0.1848558,  0.2042166,\n",
    "      0.2241053,  0.2444716,  0.2652672,  0.286445,   0.3079604,  0.3297701,\n",
    "      0.351832,   0.3741062,  0.3965532,  0.4191364,  0.4418194,  0.4645682,\n",
    "      0.48735,    0.5101338,  0.5328897,  0.5555894,  0.5782067,  0.6007158,\n",
    "      0.6230936,  0.6452944,  0.6672683,  0.6889648,  0.7103333,  0.7313231,\n",
    "      0.7518838,  0.7719651,  0.7915173,  0.8104913,  0.828839,   0.846513,\n",
    "      0.8634676,  0.8796583,  0.8950421,  0.9095779,  0.9232264,  0.9359506,\n",
    "      0.9477157,  0.9584892,  0.9682413,  0.9769447,  0.9845753,  0.9911126,\n",
    "      0.9965372,  1.        ] )"
   ]
  },
  {
   "cell_type": "code",
   "execution_count": null,
   "id": "c5450f7f",
   "metadata": {},
   "outputs": [],
   "source": [
    "#Create a Dataset instance\n",
    "coefficients = xr.Dataset(\n",
    "    { \"ak\": ([\"km1\"], ak),\n",
    "      \"bk\": ([\"km1\"], bk) \n",
    "    })"
   ]
  },
  {
   "cell_type": "code",
   "execution_count": null,
   "id": "5a0e5487",
   "metadata": {},
   "outputs": [],
   "source": [
    "#Set attributes for each variable\n",
    "coefficients[\"ak\"].attrs[\"units\"]=\"\"\n",
    "coefficients[\"bk\"].attrs[\"units\"]=\"\""
   ]
  },
  {
   "cell_type": "code",
   "execution_count": null,
   "id": "612b0134",
   "metadata": {},
   "outputs": [],
   "source": [
    "#Write netcdf file\n",
    "coefficients.to_netcdf(\"eta79.nc\")"
   ]
  }
 ],
 "metadata": {
  "jupytext": {
   "cell_metadata_filter": "-all",
   "executable": "/usr/bin/env python3",
   "main_language": "python",
   "notebook_metadata_filter": "-all"
  }
 },
 "nbformat": 4,
 "nbformat_minor": 5
}
