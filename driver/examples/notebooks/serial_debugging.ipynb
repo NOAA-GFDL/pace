{
 "cells": [
  {
   "cell_type": "markdown",
   "id": "6c0756ec",
   "metadata": {},
   "source": [
    "# Serial debugging example\n",
    "\n",
    "This example shows how you can use write and read comm configurations to save communication data from a mpi-enabled run to disk, and then debug that run in serial inside a jupyter notebook.\n",
    "\n",
    "This example is being run on April 22nd, 2022. It uses internal, unstable APIs and may not work for future versions of the code."
   ]
  },
  {
   "cell_type": "markdown",
   "id": "47acc297",
   "metadata": {},
   "source": [
    "First let's import the packages we will use below."
   ]
  },
  {
   "cell_type": "code",
   "execution_count": null,
   "id": "ee1201d3",
   "metadata": {},
   "outputs": [],
   "source": [
    "from ndsl.constants import X_DIM, Y_DIM, Z_DIM\n",
    "import pace.driver\n",
    "from pyFV3.stencils import DGrid2AGrid2CGridVectors\n",
    "import yaml\n",
    "import dacite\n",
    "import copy\n",
    "import subprocess\n",
    "import matplotlib.pyplot as plt  # pip install matplotlib"
   ]
  },
  {
   "cell_type": "markdown",
   "id": "3f567c84",
   "metadata": {},
   "source": [
    "We will base this example on a baroclinic c12 configuration using 6 ranks, but this same code can run with any configuration, even one that was run at scale on an HPC system."
   ]
  },
  {
   "cell_type": "markdown",
   "id": "82621ab9",
   "metadata": {},
   "source": [
    "## Step 1: writing communication data\n",
    "\n",
    "First we modify the configuration into one that will write all communications on rank 0 into a directory called \"comm\". This could be modified to write communications for more ranks by adding them to the \"ranks\" list."
   ]
  },
  {
   "cell_type": "code",
   "execution_count": null,
   "id": "9ed813d4",
   "metadata": {},
   "outputs": [],
   "source": [
    "with open(\"../configs/baroclinic_c12.yaml\", \"r\") as f:\n",
    "    base_config = yaml.safe_load(f)"
   ]
  },
  {
   "cell_type": "code",
   "execution_count": null,
   "id": "4fcfc5d4",
   "metadata": {},
   "outputs": [],
   "source": [
    "write_config = copy.deepcopy(base_config)\n",
    "write_config[\"comm_config\"] = {\n",
    "    \"type\": \"write\",\n",
    "    \"config\": {\n",
    "        \"path\": \"comm\",\n",
    "        \"ranks\": [0]\n",
    "    }\n",
    "}\n",
    "# diagnostics involve communication that interacts with the disk, must be disabled\n",
    "write_config.pop(\"diagnostics_config\")\n",
    "with open(\"driver_write_config.yaml\", \"w\") as f:\n",
    "    yaml.dump(write_config, f)"
   ]
  },
  {
   "cell_type": "markdown",
   "id": "c798f50c",
   "metadata": {},
   "source": [
    "With this configuration written to disk, we run:\n",
    "\n",
    "```bash\n",
    "mpirun -n 6 python3 -m pace.driver.run driver_write_config.yaml\n",
    "```\n",
    "\n",
    "This produces output files in a \"comm\" directory. You could instead run a \"write\" configuration through another method like submitting a batch job to an HPC system. The important part is to recover the \"comm\" directory that gets written by this configuration, so it can be referenced in our read configuration below. Here we see it includes data for rank 0 only."
   ]
  },
  {
   "cell_type": "code",
   "execution_count": null,
   "id": "e428f254",
   "metadata": {},
   "outputs": [],
   "source": [
    "%%bash\n",
    "ls comm"
   ]
  },
  {
   "cell_type": "markdown",
   "id": "b56dfc04",
   "metadata": {},
   "source": [
    "## Step 2: reading communication data into a Driver object\n",
    "\n",
    "We can take the \"write\" configuration and modify its comm config to create a \"read\" configuration. The rank used can be any rank which has data inside the communication cache indicated by the path."
   ]
  },
  {
   "cell_type": "code",
   "execution_count": null,
   "id": "9bd52cf2",
   "metadata": {},
   "outputs": [],
   "source": [
    "read_config = copy.deepcopy(write_config)\n",
    "read_config[\"comm_config\"] = {\n",
    "    \"type\": \"read\",\n",
    "    \"config\": {\n",
    "        \"path\": \"comm\",\n",
    "        \"rank\": 0\n",
    "    }\n",
    "}"
   ]
  },
  {
   "cell_type": "markdown",
   "id": "7348f957",
   "metadata": {},
   "source": [
    "From this configuration, we can create a driver object, and start inspecting its state. Let's take a look at the evolution of the wind and pressure fields over the first two timesteps.\n",
    "\n",
    "Keep in mind that we will be looking at rank 0, whose y-axis exactly follows latitude lines and x-axis approximately follows longitude lines."
   ]
  },
  {
   "cell_type": "code",
   "execution_count": null,
   "id": "59ada075",
   "metadata": {},
   "outputs": [],
   "source": [
    "driver = pace.driver.Driver(config=pace.driver.DriverConfig.from_dict(read_config))"
   ]
  },
  {
   "cell_type": "code",
   "execution_count": null,
   "id": "7c05df92",
   "metadata": {},
   "outputs": [],
   "source": [
    "dycore_state = driver.state.dycore_state\n",
    "# make a copy of the initial state to do experiments with later\n",
    "initial_state = copy.deepcopy(dycore_state)"
   ]
  },
  {
   "cell_type": "markdown",
   "id": "3c5e4822",
   "metadata": {},
   "source": [
    "We'll also define a plot helper routine to make it easier to quickly inspect different variables, without copying code. We'll look at level 50 of the models' 79 levels, which lies somewhere in the middle of the troposphere."
   ]
  },
  {
   "cell_type": "code",
   "execution_count": null,
   "id": "7600cdee",
   "metadata": {},
   "outputs": [],
   "source": [
    "def plot(state, varname):\n",
    "    data = getattr(state, varname)\n",
    "    # temporary workaround for bug where view goes out-of-sync with storage\n",
    "    data.view._data = data.storage.data\n",
    "    plt.figure(figsize=(5, 5))\n",
    "    # imshow by default puts x on the left and y on the bottom axis, so we transpose\n",
    "    # view by default selects the compute domain, ignoring halos\n",
    "    im = plt.imshow(data.view[:, :, 50].T)\n",
    "    plt.xlabel(\"x\")\n",
    "    plt.ylabel(\"y\")\n",
    "    plt.colorbar(im)\n",
    "    plt.title(f\"{varname} ({data.units})\")"
   ]
  },
  {
   "cell_type": "markdown",
   "id": "21cf07ca",
   "metadata": {},
   "source": [
    "First we'll look at the initial winds. Notice that for the winds only `u` and `v`, which contain the d-grid covariant winds, have data - this is intentional, as it is the prognostic variable used by the model. The C-grid winds in `uc`/`vc` will be diagnosed from these and then marched forward by half a timestep, before being used to advect the d-grid variables.\n",
    "\n",
    "This initialization case involves zonally uniform zonal winds with no meridional winds, so it makes sense that `v` is initialized with near-zero values."
   ]
  },
  {
   "cell_type": "code",
   "execution_count": null,
   "id": "00d9d714",
   "metadata": {
    "scrolled": false
   },
   "outputs": [],
   "source": [
    "plot(dycore_state, \"u\")\n",
    "plot(dycore_state, \"v\")\n",
    "plot(dycore_state, \"ua\")\n",
    "plot(dycore_state, \"va\")\n",
    "plot(dycore_state, \"uc\")\n",
    "plot(dycore_state, \"vc\")\n",
    "plot(dycore_state, \"delp\")"
   ]
  },
  {
   "cell_type": "markdown",
   "id": "46a473bc",
   "metadata": {},
   "source": [
    "We can step the model forward by one timestep, and see how this affects the evolution of the model state."
   ]
  },
  {
   "cell_type": "code",
   "execution_count": null,
   "id": "fd1bda0b",
   "metadata": {},
   "outputs": [],
   "source": [
    "driver.step(timestep=driver.config.timestep)"
   ]
  },
  {
   "cell_type": "markdown",
   "id": "1da919ba",
   "metadata": {},
   "source": [
    "`u` appears mostly unchanged, since its initial values are quite significant and are most of the signal in the plot. The changes to `v` are quite small."
   ]
  },
  {
   "cell_type": "code",
   "execution_count": null,
   "id": "3ec20047",
   "metadata": {},
   "outputs": [],
   "source": [
    "plot(dycore_state, \"u\")\n",
    "plot(dycore_state, \"v\")"
   ]
  },
  {
   "cell_type": "markdown",
   "id": "0a12d6b9",
   "metadata": {},
   "source": [
    "The other wind variables now contain their intermediate values used to evolve the model forward. `ua` and `va` contain the contravariant winds defined on the a-grid, in other words the winds in directions perpendicular to finite volume gridcell faces defined on cell centers."
   ]
  },
  {
   "cell_type": "code",
   "execution_count": null,
   "id": "3d912f43",
   "metadata": {},
   "outputs": [],
   "source": [
    "plot(dycore_state, \"ua\")\n",
    "plot(dycore_state, \"va\")"
   ]
  },
  {
   "cell_type": "markdown",
   "id": "7adfb3b2",
   "metadata": {},
   "source": [
    "`uc` and `vc` do not make much sense, comparing with the winds above. Note the very small magnitudes (1e-29 scaling on the colorbar). I don't have an explanation - it's likely these variables have been repurposed for a secondary use after they are no longer needed in the model, for memory efficiency reasons. In gt4py and dace we do not need this kind of manual memory optimization, and we are slowly refactoring re-usage of variables over time."
   ]
  },
  {
   "cell_type": "code",
   "execution_count": null,
   "id": "aabd448a",
   "metadata": {},
   "outputs": [],
   "source": [
    "plot(dycore_state, \"uc\")\n",
    "plot(dycore_state, \"vc\")"
   ]
  },
  {
   "cell_type": "markdown",
   "id": "5aa4fcb0",
   "metadata": {},
   "source": [
    "And finally, we can see the evolved pressure thickness field."
   ]
  },
  {
   "cell_type": "code",
   "execution_count": null,
   "id": "77084f49",
   "metadata": {},
   "outputs": [],
   "source": [
    "plot(dycore_state, \"delp\")"
   ]
  },
  {
   "cell_type": "markdown",
   "id": "dfedd87f",
   "metadata": {},
   "source": [
    "## Inspecting behavior of an internal component"
   ]
  },
  {
   "cell_type": "markdown",
   "id": "c5297e4d",
   "metadata": {},
   "source": [
    "The reader-comm driver will play back communications exactly as they occurred when the reference data was created, so we cannot run communication code different from what happened at that time. But we can run code that does not rely on communications. For example, let's look at how the d-grid winds (`u` and `v`) are remapped to a-grid and c-grid winds by `DGrid2AGrid2CGridVectors`."
   ]
  },
  {
   "cell_type": "code",
   "execution_count": null,
   "id": "401fdab2",
   "metadata": {},
   "outputs": [],
   "source": [
    "d2a2c = DGrid2AGrid2CGridVectors(\n",
    "    stencil_factory=driver.stencil_factory,\n",
    "    grid_data=driver.state.grid_data,\n",
    "    nested=False,\n",
    "    grid_type=0,\n",
    "    dord4=True\n",
    ")"
   ]
  },
  {
   "cell_type": "code",
   "execution_count": null,
   "id": "0d5cf970",
   "metadata": {},
   "outputs": [],
   "source": [
    "remap_state = copy.deepcopy(initial_state)"
   ]
  },
  {
   "cell_type": "code",
   "execution_count": null,
   "id": "61d20a45",
   "metadata": {},
   "outputs": [],
   "source": [
    "# need temporaries for c-grid contravariant wind multiplied by timestep\n",
    "utc = driver.quantity_factory.zeros(dims=[X_DIM, Y_DIM, Z_DIM], units=\"m/s\")\n",
    "vtc = driver.quantity_factory.zeros(dims=[X_DIM, Y_DIM, Z_DIM], units=\"m/s\")\n",
    "d2a2c(\n",
    "    uc=remap_state.uc,\n",
    "    vc=remap_state.vc,\n",
    "    u=remap_state.u,\n",
    "    v=remap_state.v,\n",
    "    ua=remap_state.ua,\n",
    "    va=remap_state.va,\n",
    "    utc=utc,\n",
    "    vtc=vtc\n",
    ")"
   ]
  },
  {
   "cell_type": "markdown",
   "id": "ff396d96",
   "metadata": {},
   "source": [
    "`u`, `ua`, and `uc` all look quite similar, since the magnitude of `u` is large and there is no component from `v` to factor in when converting between covariant and contravariant winds."
   ]
  },
  {
   "cell_type": "code",
   "execution_count": null,
   "id": "a645e6d7",
   "metadata": {},
   "outputs": [],
   "source": [
    "plot(remap_state, \"u\")\n",
    "plot(remap_state, \"ua\")\n",
    "plot(remap_state, \"uc\")"
   ]
  },
  {
   "cell_type": "markdown",
   "id": "59cc76ff",
   "metadata": {},
   "source": [
    "`v` is more interesting. While the initial wind has no projection onto the meridional direction (no covariant component in the meridional direction), it does have a contravariant component along this direction, as we see in `va`, the contravariant y-wind on the a-grid."
   ]
  },
  {
   "cell_type": "code",
   "execution_count": null,
   "id": "7e579390",
   "metadata": {},
   "outputs": [],
   "source": [
    "plot(remap_state, \"v\")\n",
    "plot(remap_state, \"va\")"
   ]
  },
  {
   "cell_type": "markdown",
   "id": "4361238f",
   "metadata": {},
   "source": [
    "`vc` is even more interesting, as it contains the covariant wind on the c-grid, which at y-edges lies on the boundary of two tile faces. At this location, the wind borders on two different coordinate systems, and the covariant wind is not well-defined. Despite the covariant y-wind being zero on the entire tile (including the edge, if we considered only rank 0's coordinate system), it contains non-zero values at the tile edge where it has to consider the coordinate systems of neighboring tiles.\n",
    "\n",
    "This is one of many examples where the FV3 code contains special logic for handling advection at tile edges."
   ]
  },
  {
   "cell_type": "code",
   "execution_count": null,
   "id": "1a2f575f",
   "metadata": {},
   "outputs": [],
   "source": [
    "plot(remap_state, \"vc\")"
   ]
  },
  {
   "cell_type": "code",
   "execution_count": null,
   "id": "91857b67",
   "metadata": {},
   "outputs": [],
   "source": []
  }
 ],
 "metadata": {
  "kernelspec": {
   "display_name": "Python 3 (ipykernel)",
   "language": "python",
   "name": "python3"
  },
  "language_info": {
   "codemirror_mode": {
    "name": "ipython",
    "version": 3
   },
   "file_extension": ".py",
   "mimetype": "text/x-python",
   "name": "python",
   "nbconvert_exporter": "python",
   "pygments_lexer": "ipython3",
   "version": "3.8.13"
  }
 },
 "nbformat": 4,
 "nbformat_minor": 5
}
